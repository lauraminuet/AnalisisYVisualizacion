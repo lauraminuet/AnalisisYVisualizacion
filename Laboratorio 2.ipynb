{
 "cells": [
  {
   "cell_type": "markdown",
   "metadata": {},
   "source": [
    "<center>\n",
    "<h4>Diplomatura AACSyA 2018 - FaMAF - UNC</h4>\n",
    "<h3>Análisis y visualización de datos</h3>\n",
    "</center>\n",
    "# Laboratorio 2"
   ]
  },
  {
   "cell_type": "markdown",
   "metadata": {},
   "source": [
    "### Exploración de datos del Sistema Nacional de Estadísticas sobre Ejecución de la Pena – SNEEP\n",
    "##### En este conjunto de datos se detalla información recopilada en el censo realizado sobre el total de la población detenida al día 31 de diciembre de cada año, en cada establecimiento de la República Argentina. La unidad de análisis son las personas alojadas en dichos establecimientos http://datos.gob.ar/dataset/sistema-nacional-estadisticas-sobre-ejecucion-pena---sneep.\n",
    "##### Para este analisis se tiene en cuenta el año 2016."
   ]
  },
  {
   "cell_type": "code",
   "execution_count": 83,
   "metadata": {},
   "outputs": [],
   "source": [
    "%matplotlib inline\n",
    "import pandas as pd\n",
    "import copy\n",
    "import matplotlib.pyplot as plt\n",
    "import numpy as np\n",
    "import seaborn as sns\n",
    "import scipy.stats as stats\n",
    "import random\n",
    "sns.set(style=\"ticks\", color_codes=True)\n",
    "#import corrplot\n",
    "# styling\n",
    "pd.set_option('display.max_columns',150)\n",
    "plt.style.use('bmh')\n",
    "from IPython.display import display\n",
    "import warnings\n",
    "warnings.filterwarnings(\"ignore\")\n",
    "from scipy.stats import norm"
   ]
  },
  {
   "cell_type": "code",
   "execution_count": 49,
   "metadata": {},
   "outputs": [],
   "source": [
    "sneep = pd.read_csv('E:\\Diplomatura\\Dataset\\sneep\\sneep_2016.csv',\n",
    "                          encoding='utf8')"
   ]
  },
  {
   "cell_type": "code",
   "execution_count": 50,
   "metadata": {},
   "outputs": [
    {
     "data": {
      "text/html": [
       "<div>\n",
       "<style scoped>\n",
       "    .dataframe tbody tr th:only-of-type {\n",
       "        vertical-align: middle;\n",
       "    }\n",
       "\n",
       "    .dataframe tbody tr th {\n",
       "        vertical-align: top;\n",
       "    }\n",
       "\n",
       "    .dataframe thead th {\n",
       "        text-align: right;\n",
       "    }\n",
       "</style>\n",
       "<table border=\"1\" class=\"dataframe\">\n",
       "  <thead>\n",
       "    <tr style=\"text-align: right;\">\n",
       "      <th></th>\n",
       "      <th>anio_censo</th>\n",
       "      <th>provincia_id</th>\n",
       "      <th>provincia_descripcion</th>\n",
       "      <th>establecimiento_id</th>\n",
       "      <th>establecimiento_descripcion</th>\n",
       "      <th>edad</th>\n",
       "      <th>sexo_id</th>\n",
       "      <th>sexo_descripcion</th>\n",
       "      <th>nacionalidad_id</th>\n",
       "      <th>nacionalidad_descripcion</th>\n",
       "      <th>estado_civil_id</th>\n",
       "      <th>estado_civil_descripcion</th>\n",
       "      <th>nivel_instruccion_id</th>\n",
       "      <th>nivel_instruccion_descripcion</th>\n",
       "      <th>ultima_situacion_laboral_id</th>\n",
       "      <th>ultima_situacion_laboral_descripcion</th>\n",
       "      <th>capacitacion_laboral_al_ingresar_id</th>\n",
       "      <th>capacitacion_laboral_al_ingresar_descripcion</th>\n",
       "      <th>ultimo_lugar_residencia_id</th>\n",
       "      <th>ultimo_lugar_residencia_descripcion</th>\n",
       "      <th>ultima_provincia_residencia_id</th>\n",
       "      <th>ultima_provincia_residencia_descripcion</th>\n",
       "      <th>jurisdiccion_id</th>\n",
       "      <th>jurisdiccion_descripcion</th>\n",
       "      <th>situacion_legal_id</th>\n",
       "      <th>situacion_legal_descripcion</th>\n",
       "      <th>fecha_detencion</th>\n",
       "      <th>fecha_condenado</th>\n",
       "      <th>establecimiento_procedencia_id</th>\n",
       "      <th>establecimiento_procedencia_descripcion</th>\n",
       "      <th>delito1_id</th>\n",
       "      <th>delito1_descripcion</th>\n",
       "      <th>delito2_id</th>\n",
       "      <th>delito2_descripcion</th>\n",
       "      <th>delito3_id</th>\n",
       "      <th>delito3_descripcion</th>\n",
       "      <th>delito4_id</th>\n",
       "      <th>delito4_descripcion</th>\n",
       "      <th>delito5_id</th>\n",
       "      <th>delito5_descripcion</th>\n",
       "      <th>horas_trabajo_remunerado_id</th>\n",
       "      <th>horas_trabajo_remunerado_descripcion</th>\n",
       "      <th>participacion_programa_laboral</th>\n",
       "      <th>participacion_programa_educativo_id</th>\n",
       "      <th>participacion_programa_educativo_descripcion</th>\n",
       "      <th>participacion_actividades_deportivas</th>\n",
       "      <th>recibio_atencion_medica_ult_anio</th>\n",
       "      <th>recibio_atencion_medica_ult_anio_descripcion</th>\n",
       "      <th>recibio_visitas_ultimo_anio</th>\n",
       "      <th>participo_alteracion_orden_ult_anio_id</th>\n",
       "      <th>participo_alteracion_orden_ult_anio_descripcion</th>\n",
       "      <th>tipo_infraccion_disciplinaria_id</th>\n",
       "      <th>tipo_infraccion_disciplinaria_descripcion</th>\n",
       "      <th>sancion_aplicada_id</th>\n",
       "      <th>sancion_aplicada_descripcion</th>\n",
       "      <th>calificacion_conducta_id</th>\n",
       "      <th>calificacion_conducta_descripcion</th>\n",
       "      <th>tentativa_fugas_evasiones_id</th>\n",
       "      <th>tentativa_fugas_evasiones_descripcion</th>\n",
       "      <th>tentativa_suicidio</th>\n",
       "      <th>fue_lesionado_id</th>\n",
       "      <th>fue_lesionado_descripcion</th>\n",
       "      <th>duracion_condena_anios</th>\n",
       "      <th>duracion_condena_meses</th>\n",
       "      <th>duracion_condena_rango</th>\n",
       "      <th>tipo_condena</th>\n",
       "      <th>tiene_medidas_seguridad</th>\n",
       "      <th>es_reincidente_id</th>\n",
       "      <th>es_reincidente_descripcion</th>\n",
       "      <th>tiene_periodo_progresividad_id</th>\n",
       "      <th>tiene_periodo_progresividad_descripcion</th>\n",
       "      <th>reparticion_id</th>\n",
       "      <th>reparticion_descripcion</th>\n",
       "      <th>tuvo_salidas_transitorias_id</th>\n",
       "      <th>tuvo_salidas_transitorias_descripcion</th>\n",
       "      <th>incorporado_reg_semi_libertad_id</th>\n",
       "      <th>incorporado_reg_semi_libertad_descripcion</th>\n",
       "      <th>participa_programa_pre_libertad</th>\n",
       "      <th>participa_programa_prision_discontinua_id</th>\n",
       "      <th>participa_programa_prision_discontinua_descripcion</th>\n",
       "      <th>participa_programa_semi_detencion_id</th>\n",
       "      <th>participa_programa_semi_detencion_descripcion</th>\n",
       "      <th>tuvo_reduccion_pena_id</th>\n",
       "      <th>tuvo_reduccion_pena_descripcion</th>\n",
       "      <th>mujer_tiene_hijos_intramuro</th>\n",
       "    </tr>\n",
       "  </thead>\n",
       "  <tbody>\n",
       "    <tr>\n",
       "      <th>0</th>\n",
       "      <td>2016</td>\n",
       "      <td>1</td>\n",
       "      <td>Buenos Aires</td>\n",
       "      <td>18</td>\n",
       "      <td>UNIDAD 13 - JUNIN</td>\n",
       "      <td>29.0</td>\n",
       "      <td>1</td>\n",
       "      <td>Masculino</td>\n",
       "      <td>1.0</td>\n",
       "      <td>Argentina</td>\n",
       "      <td>1.0</td>\n",
       "      <td>Soltero</td>\n",
       "      <td>4</td>\n",
       "      <td>Secundario incompleto</td>\n",
       "      <td>2.0</td>\n",
       "      <td>Trabajador de tiempo parcial</td>\n",
       "      <td>1.0</td>\n",
       "      <td>Tiene algún oficio</td>\n",
       "      <td>2.0</td>\n",
       "      <td>Urbano</td>\n",
       "      <td>1</td>\n",
       "      <td>Buenos Aires</td>\n",
       "      <td>1</td>\n",
       "      <td>PROVINCIAL - Buenos Aires</td>\n",
       "      <td>2</td>\n",
       "      <td>Procesado</td>\n",
       "      <td>2015-10-14</td>\n",
       "      <td>NaN</td>\n",
       "      <td>2.0</td>\n",
       "      <td>Deriv. de otro establecimiento</td>\n",
       "      <td>14.0</td>\n",
       "      <td>Hurto y/o tentativa de hurto</td>\n",
       "      <td>10.0</td>\n",
       "      <td>Amenazas</td>\n",
       "      <td>0.0</td>\n",
       "      <td>NaN</td>\n",
       "      <td>0</td>\n",
       "      <td>NaN</td>\n",
       "      <td>0</td>\n",
       "      <td>NaN</td>\n",
       "      <td>0</td>\n",
       "      <td>NaN</td>\n",
       "      <td>NaN</td>\n",
       "      <td>6.0</td>\n",
       "      <td>No participa de ningún programa educativo</td>\n",
       "      <td>1.0</td>\n",
       "      <td>2.0</td>\n",
       "      <td>No</td>\n",
       "      <td>1.0</td>\n",
       "      <td>5.0</td>\n",
       "      <td>No participó de ninguna alteración</td>\n",
       "      <td>4.0</td>\n",
       "      <td>No cometió Infracción disciplinaria</td>\n",
       "      <td>4.0</td>\n",
       "      <td>Perm. aloj. indiv. o celda hasta 15 días inint.</td>\n",
       "      <td>7.0</td>\n",
       "      <td>Sin calificación</td>\n",
       "      <td>3.0</td>\n",
       "      <td>No</td>\n",
       "      <td>0.0</td>\n",
       "      <td>0.0</td>\n",
       "      <td>NaN</td>\n",
       "      <td>0.0</td>\n",
       "      <td>0.0</td>\n",
       "      <td>0.0</td>\n",
       "      <td>NaN</td>\n",
       "      <td>NaN</td>\n",
       "      <td>0.0</td>\n",
       "      <td>NaN</td>\n",
       "      <td>0.0</td>\n",
       "      <td>NaN</td>\n",
       "      <td>1.0</td>\n",
       "      <td>Provincial</td>\n",
       "      <td>0.0</td>\n",
       "      <td>NaN</td>\n",
       "      <td>0.0</td>\n",
       "      <td>NaN</td>\n",
       "      <td>NaN</td>\n",
       "      <td>0.0</td>\n",
       "      <td>NaN</td>\n",
       "      <td>0.0</td>\n",
       "      <td>NaN</td>\n",
       "      <td>0.0</td>\n",
       "      <td>NaN</td>\n",
       "      <td>NaN</td>\n",
       "    </tr>\n",
       "    <tr>\n",
       "      <th>1</th>\n",
       "      <td>2016</td>\n",
       "      <td>1</td>\n",
       "      <td>Buenos Aires</td>\n",
       "      <td>18</td>\n",
       "      <td>UNIDAD 13 - JUNIN</td>\n",
       "      <td>24.0</td>\n",
       "      <td>1</td>\n",
       "      <td>Masculino</td>\n",
       "      <td>1.0</td>\n",
       "      <td>Argentina</td>\n",
       "      <td>1.0</td>\n",
       "      <td>Soltero</td>\n",
       "      <td>2</td>\n",
       "      <td>Primario incompleto</td>\n",
       "      <td>2.0</td>\n",
       "      <td>Trabajador de tiempo parcial</td>\n",
       "      <td>1.0</td>\n",
       "      <td>Tiene algún oficio</td>\n",
       "      <td>2.0</td>\n",
       "      <td>Urbano</td>\n",
       "      <td>1</td>\n",
       "      <td>Buenos Aires</td>\n",
       "      <td>1</td>\n",
       "      <td>PROVINCIAL - Buenos Aires</td>\n",
       "      <td>2</td>\n",
       "      <td>Procesado</td>\n",
       "      <td>2016-06-29</td>\n",
       "      <td>NaN</td>\n",
       "      <td>3.0</td>\n",
       "      <td>Deriv. de una instit. Policial</td>\n",
       "      <td>10.0</td>\n",
       "      <td>Amenazas</td>\n",
       "      <td>0.0</td>\n",
       "      <td>NaN</td>\n",
       "      <td>0.0</td>\n",
       "      <td>NaN</td>\n",
       "      <td>0</td>\n",
       "      <td>NaN</td>\n",
       "      <td>0</td>\n",
       "      <td>NaN</td>\n",
       "      <td>0</td>\n",
       "      <td>NaN</td>\n",
       "      <td>NaN</td>\n",
       "      <td>6.0</td>\n",
       "      <td>No participa de ningún programa educativo</td>\n",
       "      <td>1.0</td>\n",
       "      <td>19.0</td>\n",
       "      <td>SI - OTRAS ENFERMEDADES</td>\n",
       "      <td>1.0</td>\n",
       "      <td>5.0</td>\n",
       "      <td>No participó de ninguna alteración</td>\n",
       "      <td>4.0</td>\n",
       "      <td>No cometió Infracción disciplinaria</td>\n",
       "      <td>4.0</td>\n",
       "      <td>Perm. aloj. indiv. o celda hasta 15 días inint.</td>\n",
       "      <td>3.0</td>\n",
       "      <td>Buena</td>\n",
       "      <td>3.0</td>\n",
       "      <td>No</td>\n",
       "      <td>0.0</td>\n",
       "      <td>0.0</td>\n",
       "      <td>NaN</td>\n",
       "      <td>0.0</td>\n",
       "      <td>0.0</td>\n",
       "      <td>0.0</td>\n",
       "      <td>NaN</td>\n",
       "      <td>NaN</td>\n",
       "      <td>0.0</td>\n",
       "      <td>NaN</td>\n",
       "      <td>0.0</td>\n",
       "      <td>NaN</td>\n",
       "      <td>1.0</td>\n",
       "      <td>Provincial</td>\n",
       "      <td>0.0</td>\n",
       "      <td>NaN</td>\n",
       "      <td>0.0</td>\n",
       "      <td>NaN</td>\n",
       "      <td>NaN</td>\n",
       "      <td>0.0</td>\n",
       "      <td>NaN</td>\n",
       "      <td>0.0</td>\n",
       "      <td>NaN</td>\n",
       "      <td>0.0</td>\n",
       "      <td>NaN</td>\n",
       "      <td>NaN</td>\n",
       "    </tr>\n",
       "    <tr>\n",
       "      <th>2</th>\n",
       "      <td>2016</td>\n",
       "      <td>1</td>\n",
       "      <td>Buenos Aires</td>\n",
       "      <td>18</td>\n",
       "      <td>UNIDAD 13 - JUNIN</td>\n",
       "      <td>53.0</td>\n",
       "      <td>1</td>\n",
       "      <td>Masculino</td>\n",
       "      <td>1.0</td>\n",
       "      <td>Argentina</td>\n",
       "      <td>1.0</td>\n",
       "      <td>Soltero</td>\n",
       "      <td>1</td>\n",
       "      <td>Ninguno</td>\n",
       "      <td>2.0</td>\n",
       "      <td>Trabajador de tiempo parcial</td>\n",
       "      <td>1.0</td>\n",
       "      <td>Tiene algún oficio</td>\n",
       "      <td>2.0</td>\n",
       "      <td>Urbano</td>\n",
       "      <td>1</td>\n",
       "      <td>Buenos Aires</td>\n",
       "      <td>1</td>\n",
       "      <td>PROVINCIAL - Buenos Aires</td>\n",
       "      <td>1</td>\n",
       "      <td>Condenado</td>\n",
       "      <td>2012-07-23</td>\n",
       "      <td>2014-02-25</td>\n",
       "      <td>2.0</td>\n",
       "      <td>Deriv. de otro establecimiento</td>\n",
       "      <td>8.0</td>\n",
       "      <td>Violaciones</td>\n",
       "      <td>0.0</td>\n",
       "      <td>NaN</td>\n",
       "      <td>0.0</td>\n",
       "      <td>NaN</td>\n",
       "      <td>0</td>\n",
       "      <td>NaN</td>\n",
       "      <td>0</td>\n",
       "      <td>NaN</td>\n",
       "      <td>3</td>\n",
       "      <td>Hasta 30 hs. Semanales</td>\n",
       "      <td>NaN</td>\n",
       "      <td>1.0</td>\n",
       "      <td>Si - educación formal - PRIMARIA (EGB)</td>\n",
       "      <td>1.0</td>\n",
       "      <td>19.0</td>\n",
       "      <td>SI - OTRAS ENFERMEDADES</td>\n",
       "      <td>1.0</td>\n",
       "      <td>5.0</td>\n",
       "      <td>No participó de ninguna alteración</td>\n",
       "      <td>4.0</td>\n",
       "      <td>No cometió Infracción disciplinaria</td>\n",
       "      <td>4.0</td>\n",
       "      <td>Perm. aloj. indiv. o celda hasta 15 días inint.</td>\n",
       "      <td>1.0</td>\n",
       "      <td>Ejemplar</td>\n",
       "      <td>3.0</td>\n",
       "      <td>No</td>\n",
       "      <td>0.0</td>\n",
       "      <td>0.0</td>\n",
       "      <td>NaN</td>\n",
       "      <td>15.0</td>\n",
       "      <td>0.0</td>\n",
       "      <td>5.0</td>\n",
       "      <td>0.0</td>\n",
       "      <td>0.0</td>\n",
       "      <td>1.0</td>\n",
       "      <td>Primario</td>\n",
       "      <td>2.0</td>\n",
       "      <td>Período de tratamiento</td>\n",
       "      <td>1.0</td>\n",
       "      <td>Provincial</td>\n",
       "      <td>1.0</td>\n",
       "      <td>No le fueron otorgadas</td>\n",
       "      <td>1.0</td>\n",
       "      <td>No está incorporado al régimen de semilibertad</td>\n",
       "      <td>0.0</td>\n",
       "      <td>1.0</td>\n",
       "      <td>No está incorporado</td>\n",
       "      <td>1.0</td>\n",
       "      <td>No tiene semidetención</td>\n",
       "      <td>4.0</td>\n",
       "      <td>No tuvo reducción de pena</td>\n",
       "      <td>NaN</td>\n",
       "    </tr>\n",
       "  </tbody>\n",
       "</table>\n",
       "</div>"
      ],
      "text/plain": [
       "   anio_censo  provincia_id provincia_descripcion  establecimiento_id  \\\n",
       "0        2016             1          Buenos Aires                  18   \n",
       "1        2016             1          Buenos Aires                  18   \n",
       "2        2016             1          Buenos Aires                  18   \n",
       "\n",
       "  establecimiento_descripcion  edad  sexo_id sexo_descripcion  \\\n",
       "0           UNIDAD 13 - JUNIN  29.0        1        Masculino   \n",
       "1           UNIDAD 13 - JUNIN  24.0        1        Masculino   \n",
       "2           UNIDAD 13 - JUNIN  53.0        1        Masculino   \n",
       "\n",
       "   nacionalidad_id nacionalidad_descripcion  estado_civil_id  \\\n",
       "0              1.0                Argentina              1.0   \n",
       "1              1.0                Argentina              1.0   \n",
       "2              1.0                Argentina              1.0   \n",
       "\n",
       "  estado_civil_descripcion  nivel_instruccion_id  \\\n",
       "0                  Soltero                     4   \n",
       "1                  Soltero                     2   \n",
       "2                  Soltero                     1   \n",
       "\n",
       "  nivel_instruccion_descripcion  ultima_situacion_laboral_id  \\\n",
       "0         Secundario incompleto                          2.0   \n",
       "1           Primario incompleto                          2.0   \n",
       "2                       Ninguno                          2.0   \n",
       "\n",
       "  ultima_situacion_laboral_descripcion  capacitacion_laboral_al_ingresar_id  \\\n",
       "0         Trabajador de tiempo parcial                                  1.0   \n",
       "1         Trabajador de tiempo parcial                                  1.0   \n",
       "2         Trabajador de tiempo parcial                                  1.0   \n",
       "\n",
       "  capacitacion_laboral_al_ingresar_descripcion  ultimo_lugar_residencia_id  \\\n",
       "0                           Tiene algún oficio                         2.0   \n",
       "1                           Tiene algún oficio                         2.0   \n",
       "2                           Tiene algún oficio                         2.0   \n",
       "\n",
       "  ultimo_lugar_residencia_descripcion  ultima_provincia_residencia_id  \\\n",
       "0                              Urbano                               1   \n",
       "1                              Urbano                               1   \n",
       "2                              Urbano                               1   \n",
       "\n",
       "  ultima_provincia_residencia_descripcion  jurisdiccion_id  \\\n",
       "0                            Buenos Aires                1   \n",
       "1                            Buenos Aires                1   \n",
       "2                            Buenos Aires                1   \n",
       "\n",
       "    jurisdiccion_descripcion  situacion_legal_id situacion_legal_descripcion  \\\n",
       "0  PROVINCIAL - Buenos Aires                   2                   Procesado   \n",
       "1  PROVINCIAL - Buenos Aires                   2                   Procesado   \n",
       "2  PROVINCIAL - Buenos Aires                   1                   Condenado   \n",
       "\n",
       "  fecha_detencion fecha_condenado  establecimiento_procedencia_id  \\\n",
       "0      2015-10-14             NaN                             2.0   \n",
       "1      2016-06-29             NaN                             3.0   \n",
       "2      2012-07-23      2014-02-25                             2.0   \n",
       "\n",
       "  establecimiento_procedencia_descripcion  delito1_id  \\\n",
       "0          Deriv. de otro establecimiento        14.0   \n",
       "1          Deriv. de una instit. Policial        10.0   \n",
       "2          Deriv. de otro establecimiento         8.0   \n",
       "\n",
       "            delito1_descripcion  delito2_id delito2_descripcion  delito3_id  \\\n",
       "0  Hurto y/o tentativa de hurto        10.0            Amenazas         0.0   \n",
       "1                      Amenazas         0.0                 NaN         0.0   \n",
       "2                   Violaciones         0.0                 NaN         0.0   \n",
       "\n",
       "  delito3_descripcion  delito4_id delito4_descripcion  delito5_id  \\\n",
       "0                 NaN           0                 NaN           0   \n",
       "1                 NaN           0                 NaN           0   \n",
       "2                 NaN           0                 NaN           0   \n",
       "\n",
       "  delito5_descripcion  horas_trabajo_remunerado_id  \\\n",
       "0                 NaN                            0   \n",
       "1                 NaN                            0   \n",
       "2                 NaN                            3   \n",
       "\n",
       "  horas_trabajo_remunerado_descripcion  participacion_programa_laboral  \\\n",
       "0                                  NaN                             NaN   \n",
       "1                                  NaN                             NaN   \n",
       "2               Hasta 30 hs. Semanales                             NaN   \n",
       "\n",
       "   participacion_programa_educativo_id  \\\n",
       "0                                  6.0   \n",
       "1                                  6.0   \n",
       "2                                  1.0   \n",
       "\n",
       "  participacion_programa_educativo_descripcion  \\\n",
       "0    No participa de ningún programa educativo   \n",
       "1    No participa de ningún programa educativo   \n",
       "2       Si - educación formal - PRIMARIA (EGB)   \n",
       "\n",
       "   participacion_actividades_deportivas  recibio_atencion_medica_ult_anio  \\\n",
       "0                                   1.0                               2.0   \n",
       "1                                   1.0                              19.0   \n",
       "2                                   1.0                              19.0   \n",
       "\n",
       "  recibio_atencion_medica_ult_anio_descripcion  recibio_visitas_ultimo_anio  \\\n",
       "0                                           No                          1.0   \n",
       "1                      SI - OTRAS ENFERMEDADES                          1.0   \n",
       "2                      SI - OTRAS ENFERMEDADES                          1.0   \n",
       "\n",
       "   participo_alteracion_orden_ult_anio_id  \\\n",
       "0                                     5.0   \n",
       "1                                     5.0   \n",
       "2                                     5.0   \n",
       "\n",
       "  participo_alteracion_orden_ult_anio_descripcion  \\\n",
       "0              No participó de ninguna alteración   \n",
       "1              No participó de ninguna alteración   \n",
       "2              No participó de ninguna alteración   \n",
       "\n",
       "   tipo_infraccion_disciplinaria_id tipo_infraccion_disciplinaria_descripcion  \\\n",
       "0                               4.0       No cometió Infracción disciplinaria   \n",
       "1                               4.0       No cometió Infracción disciplinaria   \n",
       "2                               4.0       No cometió Infracción disciplinaria   \n",
       "\n",
       "   sancion_aplicada_id                     sancion_aplicada_descripcion  \\\n",
       "0                  4.0  Perm. aloj. indiv. o celda hasta 15 días inint.   \n",
       "1                  4.0  Perm. aloj. indiv. o celda hasta 15 días inint.   \n",
       "2                  4.0  Perm. aloj. indiv. o celda hasta 15 días inint.   \n",
       "\n",
       "   calificacion_conducta_id calificacion_conducta_descripcion  \\\n",
       "0                       7.0                  Sin calificación   \n",
       "1                       3.0                             Buena   \n",
       "2                       1.0                          Ejemplar   \n",
       "\n",
       "   tentativa_fugas_evasiones_id tentativa_fugas_evasiones_descripcion  \\\n",
       "0                           3.0                                    No   \n",
       "1                           3.0                                    No   \n",
       "2                           3.0                                    No   \n",
       "\n",
       "   tentativa_suicidio  fue_lesionado_id fue_lesionado_descripcion  \\\n",
       "0                 0.0               0.0                       NaN   \n",
       "1                 0.0               0.0                       NaN   \n",
       "2                 0.0               0.0                       NaN   \n",
       "\n",
       "   duracion_condena_anios  duracion_condena_meses  duracion_condena_rango  \\\n",
       "0                     0.0                     0.0                     0.0   \n",
       "1                     0.0                     0.0                     0.0   \n",
       "2                    15.0                     0.0                     5.0   \n",
       "\n",
       "   tipo_condena  tiene_medidas_seguridad  es_reincidente_id  \\\n",
       "0           NaN                      NaN                0.0   \n",
       "1           NaN                      NaN                0.0   \n",
       "2           0.0                      0.0                1.0   \n",
       "\n",
       "  es_reincidente_descripcion  tiene_periodo_progresividad_id  \\\n",
       "0                        NaN                             0.0   \n",
       "1                        NaN                             0.0   \n",
       "2                   Primario                             2.0   \n",
       "\n",
       "  tiene_periodo_progresividad_descripcion  reparticion_id  \\\n",
       "0                                     NaN             1.0   \n",
       "1                                     NaN             1.0   \n",
       "2                  Período de tratamiento             1.0   \n",
       "\n",
       "  reparticion_descripcion  tuvo_salidas_transitorias_id  \\\n",
       "0              Provincial                           0.0   \n",
       "1              Provincial                           0.0   \n",
       "2              Provincial                           1.0   \n",
       "\n",
       "  tuvo_salidas_transitorias_descripcion  incorporado_reg_semi_libertad_id  \\\n",
       "0                                   NaN                               0.0   \n",
       "1                                   NaN                               0.0   \n",
       "2                No le fueron otorgadas                               1.0   \n",
       "\n",
       "        incorporado_reg_semi_libertad_descripcion  \\\n",
       "0                                             NaN   \n",
       "1                                             NaN   \n",
       "2  No está incorporado al régimen de semilibertad   \n",
       "\n",
       "   participa_programa_pre_libertad  participa_programa_prision_discontinua_id  \\\n",
       "0                              NaN                                        0.0   \n",
       "1                              NaN                                        0.0   \n",
       "2                              0.0                                        1.0   \n",
       "\n",
       "  participa_programa_prision_discontinua_descripcion  \\\n",
       "0                                                NaN   \n",
       "1                                                NaN   \n",
       "2                                No está incorporado   \n",
       "\n",
       "   participa_programa_semi_detencion_id  \\\n",
       "0                                   0.0   \n",
       "1                                   0.0   \n",
       "2                                   1.0   \n",
       "\n",
       "  participa_programa_semi_detencion_descripcion  tuvo_reduccion_pena_id  \\\n",
       "0                                           NaN                     0.0   \n",
       "1                                           NaN                     0.0   \n",
       "2                        No tiene semidetención                     4.0   \n",
       "\n",
       "  tuvo_reduccion_pena_descripcion  mujer_tiene_hijos_intramuro  \n",
       "0                             NaN                          NaN  \n",
       "1                             NaN                          NaN  \n",
       "2       No tuvo reducción de pena                          NaN  "
      ]
     },
     "execution_count": 50,
     "metadata": {},
     "output_type": "execute_result"
    }
   ],
   "source": [
    "sneep[:3]"
   ]
  },
  {
   "cell_type": "code",
   "execution_count": 51,
   "metadata": {},
   "outputs": [
    {
     "data": {
      "text/plain": [
       "(76159, 85)"
      ]
     },
     "execution_count": 51,
     "metadata": {},
     "output_type": "execute_result"
    }
   ],
   "source": [
    "sneep.shape"
   ]
  },
  {
   "cell_type": "markdown",
   "metadata": {},
   "source": [
    "### Distribucion de Frecuencia de Edad"
   ]
  },
  {
   "cell_type": "code",
   "execution_count": 52,
   "metadata": {
    "scrolled": true
   },
   "outputs": [
    {
     "data": {
      "text/html": [
       "<div>\n",
       "<style scoped>\n",
       "    .dataframe tbody tr th:only-of-type {\n",
       "        vertical-align: middle;\n",
       "    }\n",
       "\n",
       "    .dataframe tbody tr th {\n",
       "        vertical-align: top;\n",
       "    }\n",
       "\n",
       "    .dataframe thead th {\n",
       "        text-align: right;\n",
       "    }\n",
       "</style>\n",
       "<table border=\"1\" class=\"dataframe\">\n",
       "  <thead>\n",
       "    <tr style=\"text-align: right;\">\n",
       "      <th></th>\n",
       "      <th>Media</th>\n",
       "      <th>Mediana</th>\n",
       "      <th>Moda</th>\n",
       "    </tr>\n",
       "  </thead>\n",
       "  <tbody>\n",
       "    <tr>\n",
       "      <th>Calculos Estadisticos</th>\n",
       "      <td>33.428054</td>\n",
       "      <td>31.0</td>\n",
       "      <td>24.0</td>\n",
       "    </tr>\n",
       "  </tbody>\n",
       "</table>\n",
       "</div>"
      ],
      "text/plain": [
       "                           Media  Mediana  Moda\n",
       "Calculos Estadisticos  33.428054     31.0  24.0"
      ]
     },
     "execution_count": 52,
     "metadata": {},
     "output_type": "execute_result"
    }
   ],
   "source": [
    "media = sneep.edad.mean()\n",
    "mediana=sneep.edad.median()\n",
    "mode=sneep.edad.mode().values[0]\n",
    "d = {'Media': media,'Mediana': mediana,'Moda': mode, }\n",
    "df = pd.DataFrame(data=d,index=['Calculos Estadisticos'])\n",
    "df"
   ]
  },
  {
   "cell_type": "code",
   "execution_count": 53,
   "metadata": {
    "scrolled": false
   },
   "outputs": [
    {
     "data": {
      "text/plain": [
       "Text(0.5,1,'Distribución de Frecuencias por Edad')"
      ]
     },
     "execution_count": 53,
     "metadata": {},
     "output_type": "execute_result"
    },
    {
     "data": {
      "image/png": "[encoded data removed]",
      "text/plain": [
       "<matplotlib.figure.Figure at 0x18e91d93eb8>"
      ]
     },
     "metadata": {},
     "output_type": "display_data"
    }
   ],
   "source": [
    "datos= sneep.edad.value_counts()\n",
    "lista_evento = datos.sort_index()\n",
    "df_Edad = pd.DataFrame({\n",
    "   'Edad' : lista_evento.index.values,\n",
    "   'Frecuencia' : lista_evento.get_values(),\n",
    "}) \n",
    "_ = df_Edad.plot( x='Edad',y='Frecuencia',kind='bar', figsize = (23,5), color='#c02ecc')\n",
    "plt.title('Distribución de Frecuencias por Edad', fontsize=14, color='red')"
   ]
  },
  {
   "cell_type": "markdown",
   "metadata": {},
   "source": [
    "### Situación Legal de la Población detenida"
   ]
  },
  {
   "cell_type": "code",
   "execution_count": 54,
   "metadata": {
    "scrolled": false
   },
   "outputs": [
    {
     "data": {
      "image/png": "[encoded data removed]",
      "text/plain": [
       "<matplotlib.figure.Figure at 0x18e91f69710>"
      ]
     },
     "metadata": {},
     "output_type": "display_data"
    }
   ],
   "source": [
    "colors = ['gold', 'yellowgreen', 'lightcoral']\n",
    "plot = sneep['situacion_legal_descripcion'].value_counts().plot(kind='pie', autopct='%1.1f%%', colors=colors,\n",
    "                                            figsize=(5, 5),\n",
    "                                            title='Situación legal')\n"
   ]
  },
  {
   "cell_type": "code",
   "execution_count": 55,
   "metadata": {
    "scrolled": true
   },
   "outputs": [
    {
     "data": {
      "text/plain": [
       "Text(0.5,1,'Distribución de Frecuencias por Años de Condena')"
      ]
     },
     "execution_count": 55,
     "metadata": {},
     "output_type": "execute_result"
    },
    {
     "data": {
      "image/png": "[encoded data removed]",
      "text/plain": [
       "<matplotlib.figure.Figure at 0x18e9243af60>"
      ]
     },
     "metadata": {},
     "output_type": "display_data"
    }
   ],
   "source": [
    "nuevo_dt= sneep[ ~sneep['edad'].isnull()& ~sneep['sexo_descripcion'].isnull()  & ~sneep['duracion_condena_anios'].isnull() & ~sneep['situacion_legal_descripcion'].isnull()]\n",
    "Frecuencia_edad= sneep.edad.value_counts()\n",
    "df_nvo_dt = pd.DataFrame({\n",
    "   'Edad' : nuevo_dt[nuevo_dt['situacion_legal_descripcion'] =='Condenado'].edad,\n",
    "   'Sexo' : nuevo_dt[nuevo_dt['situacion_legal_descripcion'] =='Condenado'].sexo_descripcion,\n",
    "   'SituacionLegal' : nuevo_dt[nuevo_dt['situacion_legal_descripcion'] =='Condenado'].situacion_legal_descripcion,\n",
    "   'AñosdeCondena' : nuevo_dt[nuevo_dt['situacion_legal_descripcion'] =='Condenado'].duracion_condena_anios,\n",
    "}) \n",
    "pal = ['gold']\n",
    "gr_1 = sns.factorplot(x=\"AñosdeCondena\", \n",
    "                      data=df_nvo_dt,kind=\"count\",  palette=pal,aspect=4, legend_out=True)\n",
    "plt.title('Distribución de Frecuencias por Años de Condena', fontsize=14, color='black')"
   ]
  },
  {
   "cell_type": "code",
   "execution_count": 56,
   "metadata": {},
   "outputs": [
    {
     "data": {
      "text/html": [
       "<div>\n",
       "<style scoped>\n",
       "    .dataframe tbody tr th:only-of-type {\n",
       "        vertical-align: middle;\n",
       "    }\n",
       "\n",
       "    .dataframe tbody tr th {\n",
       "        vertical-align: top;\n",
       "    }\n",
       "\n",
       "    .dataframe thead th {\n",
       "        text-align: right;\n",
       "    }\n",
       "</style>\n",
       "<table border=\"1\" class=\"dataframe\">\n",
       "  <thead>\n",
       "    <tr style=\"text-align: right;\">\n",
       "      <th></th>\n",
       "      <th>Media</th>\n",
       "      <th>Mediana</th>\n",
       "      <th>Moda</th>\n",
       "    </tr>\n",
       "  </thead>\n",
       "  <tbody>\n",
       "    <tr>\n",
       "      <th>Calculos Estadisticos</th>\n",
       "      <td>7.215239</td>\n",
       "      <td>6.0</td>\n",
       "      <td>4.0</td>\n",
       "    </tr>\n",
       "  </tbody>\n",
       "</table>\n",
       "</div>"
      ],
      "text/plain": [
       "                          Media  Mediana  Moda\n",
       "Calculos Estadisticos  7.215239      6.0   4.0"
      ]
     },
     "execution_count": 56,
     "metadata": {},
     "output_type": "execute_result"
    }
   ],
   "source": [
    "media = [df_nvo_dt.AñosdeCondena.mean(),]\n",
    "mediana=df_nvo_dt.AñosdeCondena.median()\n",
    "mode=df_nvo_dt.AñosdeCondena.mode().values[0]\n",
    "d = {'Media': media,'Mediana': mediana,'Moda': mode, }\n",
    "df = pd.DataFrame(data=d,index=['Calculos Estadisticos'])\n",
    "df"
   ]
  },
  {
   "cell_type": "code",
   "execution_count": 57,
   "metadata": {},
   "outputs": [
    {
     "data": {
      "text/html": [
       "<div>\n",
       "<style scoped>\n",
       "    .dataframe tbody tr th:only-of-type {\n",
       "        vertical-align: middle;\n",
       "    }\n",
       "\n",
       "    .dataframe tbody tr th {\n",
       "        vertical-align: top;\n",
       "    }\n",
       "\n",
       "    .dataframe thead th {\n",
       "        text-align: right;\n",
       "    }\n",
       "</style>\n",
       "<table border=\"1\" class=\"dataframe\">\n",
       "  <thead>\n",
       "    <tr style=\"text-align: right;\">\n",
       "      <th></th>\n",
       "      <th>Media</th>\n",
       "      <th>Mediana</th>\n",
       "      <th>Moda</th>\n",
       "    </tr>\n",
       "  </thead>\n",
       "  <tbody>\n",
       "    <tr>\n",
       "      <th>Masculino</th>\n",
       "      <td>7.228325</td>\n",
       "      <td>6.0</td>\n",
       "      <td>4.0</td>\n",
       "    </tr>\n",
       "    <tr>\n",
       "      <th>Femenino</th>\n",
       "      <td>6.767699</td>\n",
       "      <td>5.0</td>\n",
       "      <td>4.0</td>\n",
       "    </tr>\n",
       "    <tr>\n",
       "      <th>Transexual</th>\n",
       "      <td>7.200000</td>\n",
       "      <td>5.0</td>\n",
       "      <td>4.0</td>\n",
       "    </tr>\n",
       "  </tbody>\n",
       "</table>\n",
       "</div>"
      ],
      "text/plain": [
       "               Media  Mediana  Moda\n",
       "Masculino   7.228325      6.0   4.0\n",
       "Femenino    6.767699      5.0   4.0\n",
       "Transexual  7.200000      5.0   4.0"
      ]
     },
     "execution_count": 57,
     "metadata": {},
     "output_type": "execute_result"
    }
   ],
   "source": [
    "media = [df_nvo_dt[df_nvo_dt['Sexo'] =='Masculino'].AñosdeCondena.mean(), \n",
    "         df_nvo_dt[df_nvo_dt['Sexo'] =='Femenino'].AñosdeCondena.mean(),\n",
    "         df_nvo_dt[df_nvo_dt['Sexo'] =='Transexual'].AñosdeCondena.mean()]\n",
    "mediana=[df_nvo_dt[df_nvo_dt['Sexo'] =='Masculino'].AñosdeCondena.median(), \n",
    "         df_nvo_dt[df_nvo_dt['Sexo'] =='Femenino'].AñosdeCondena.median(),\n",
    "         df_nvo_dt[df_nvo_dt['Sexo'] =='Transexual'].AñosdeCondena.median()]\n",
    "mode=[df_nvo_dt[df_nvo_dt['Sexo'] =='Masculino'].AñosdeCondena.mode().values[0], \n",
    "         df_nvo_dt[df_nvo_dt['Sexo'] =='Femenino'].AñosdeCondena.mode().values[0],\n",
    "         df_nvo_dt[df_nvo_dt['Sexo'] =='Transexual'].AñosdeCondena.mode().values[0]]\n",
    "\n",
    "d = {'Media': media,'Mediana': mediana,'Moda': mode}\n",
    "df = pd.DataFrame(data=d, index=['Masculino','Femenino','Transexual'])\n",
    "df"
   ]
  },
  {
   "cell_type": "markdown",
   "metadata": {},
   "source": [
    "### Chi-cuadrado para variables categóricas"
   ]
  },
  {
   "cell_type": "markdown",
   "metadata": {},
   "source": [
    "##### Para hacer el cálculo de la relacion de las variables utilizaremos las variables categoricas sexo y situación legal de la población"
   ]
  },
  {
   "cell_type": "code",
   "execution_count": 41,
   "metadata": {},
   "outputs": [
    {
     "data": {
      "text/plain": [
       "(6, 3)"
      ]
     },
     "metadata": {},
     "output_type": "display_data"
    },
    {
     "data": {
      "text/html": [
       "<div>\n",
       "<style scoped>\n",
       "    .dataframe tbody tr th:only-of-type {\n",
       "        vertical-align: middle;\n",
       "    }\n",
       "\n",
       "    .dataframe tbody tr th {\n",
       "        vertical-align: top;\n",
       "    }\n",
       "\n",
       "    .dataframe thead th {\n",
       "        text-align: right;\n",
       "    }\n",
       "</style>\n",
       "<table border=\"1\" class=\"dataframe\">\n",
       "  <thead>\n",
       "    <tr style=\"text-align: right;\">\n",
       "      <th>situacion_legal_descripcion</th>\n",
       "      <th>Condenado</th>\n",
       "      <th>Otros</th>\n",
       "      <th>Procesado</th>\n",
       "    </tr>\n",
       "    <tr>\n",
       "      <th>estado_civil_descripcion</th>\n",
       "      <th></th>\n",
       "      <th></th>\n",
       "      <th></th>\n",
       "    </tr>\n",
       "  </thead>\n",
       "  <tbody>\n",
       "    <tr>\n",
       "      <th>Casado</th>\n",
       "      <td>3386</td>\n",
       "      <td>65</td>\n",
       "      <td>3175</td>\n",
       "    </tr>\n",
       "    <tr>\n",
       "      <th>Concubino</th>\n",
       "      <td>3709</td>\n",
       "      <td>23</td>\n",
       "      <td>2729</td>\n",
       "    </tr>\n",
       "    <tr>\n",
       "      <th>Separado de hecho</th>\n",
       "      <td>213</td>\n",
       "      <td>1</td>\n",
       "      <td>200</td>\n",
       "    </tr>\n",
       "    <tr>\n",
       "      <th>Separado o divorciado</th>\n",
       "      <td>593</td>\n",
       "      <td>7</td>\n",
       "      <td>595</td>\n",
       "    </tr>\n",
       "    <tr>\n",
       "      <th>Soltero</th>\n",
       "      <td>30730</td>\n",
       "      <td>397</td>\n",
       "      <td>28903</td>\n",
       "    </tr>\n",
       "    <tr>\n",
       "      <th>Viudo</th>\n",
       "      <td>439</td>\n",
       "      <td>3</td>\n",
       "      <td>387</td>\n",
       "    </tr>\n",
       "  </tbody>\n",
       "</table>\n",
       "</div>"
      ],
      "text/plain": [
       "situacion_legal_descripcion  Condenado  Otros  Procesado\n",
       "estado_civil_descripcion                                \n",
       "Casado                            3386     65       3175\n",
       "Concubino                         3709     23       2729\n",
       "Separado de hecho                  213      1        200\n",
       "Separado o divorciado              593      7        595\n",
       "Soltero                          30730    397      28903\n",
       "Viudo                              439      3        387"
      ]
     },
     "execution_count": 41,
     "metadata": {},
     "output_type": "execute_result"
    }
   ],
   "source": [
    "tabla_rel= pd.crosstab(index=sneep['estado_civil_descripcion'].dropna(),\n",
    "            columns=sneep['situacion_legal_descripcion'].dropna())\n",
    "display(tabla_rel.shape)\n",
    "tabla_rel"
   ]
  },
  {
   "cell_type": "markdown",
   "metadata": {},
   "source": [
    "¿Cómo se contrasta la $H_0$?\n",
    "\n",
    "$$ fe_{i j} = \\frac{(total fila i-ésima) * (total columna j-ésima)}{gran total} $$\n",
    "Nota 1: Se calculan las frecuencias que cabría esperar si las 2 variables fueran independientes\n",
    "\n",
    "Nota 2: $fe_{i j}$ es nuestro estadistico"
   ]
  },
  {
   "cell_type": "code",
   "execution_count": 42,
   "metadata": {},
   "outputs": [
    {
     "data": {
      "text/plain": [
       "array([[3.42634928e+03, 4.34980610e+01, 3.15615266e+03],\n",
       "       [3.34102667e+03, 4.24148766e+01, 3.07755845e+03],\n",
       "       [2.14082192e+02, 2.71780822e+00, 1.97200000e+02],\n",
       "       [6.17942558e+02, 7.84488121e+00, 5.69212560e+02],\n",
       "       [3.10419178e+04, 3.94082192e+02, 2.85940000e+04],\n",
       "       [4.28681490e+02, 5.44218119e+00, 3.94876329e+02]])"
      ]
     },
     "execution_count": 42,
     "metadata": {},
     "output_type": "execute_result"
    }
   ],
   "source": [
    "frec_esperadas = ss.contingency.expected_freq(tabla_rel)\n",
    "frec_esperadas"
   ]
  },
  {
   "cell_type": "code",
   "execution_count": 43,
   "metadata": {
    "scrolled": true
   },
   "outputs": [
    {
     "name": "stdout",
     "output_type": "stream",
     "text": [
      "Chi2 = 111.50175491453389\n",
      "P-value = 2.6558791836114227e-19\n",
      "DoF = 10\n"
     ]
    }
   ],
   "source": [
    "chi2, p, dof, ex  = ss.chi2_contingency(tabla_rel.values, correction=False)\n",
    "print(\"Chi2 =\", chi2)\n",
    "print(\"P-value =\", p)\n",
    "print(\"DoF =\", dof)"
   ]
  },
  {
   "cell_type": "code",
   "execution_count": 44,
   "metadata": {
    "scrolled": true
   },
   "outputs": [
    {
     "name": "stdout",
     "output_type": "stream",
     "text": [
      "Rechazo H0 ==> Las Variables Estan Correlacionadas\n"
     ]
    }
   ],
   "source": [
    "def calc_conf(confianza):\n",
    "    \"\"\"\n",
    "    Retorna el nivel de significancia.\n",
    "    \"\"\"\n",
    "    return (100 - confianza) / 100\n",
    "\n",
    "# Queremos confianza al 90%\n",
    "if p < calc_conf(90):\n",
    "    print(\"Rechazo H0 ==> Las Variables Estan Correlacionadas\")\n",
    "else:\n",
    "    print(\"Acepto H0 ==> Las Variables Son Independientes\")"
   ]
  },
  {
   "cell_type": "code",
   "execution_count": 46,
   "metadata": {
    "scrolled": false
   },
   "outputs": [
    {
     "data": {
      "text/plain": [
       "(4, 3)"
      ]
     },
     "metadata": {},
     "output_type": "display_data"
    },
    {
     "data": {
      "text/html": [
       "<div>\n",
       "<style scoped>\n",
       "    .dataframe tbody tr th:only-of-type {\n",
       "        vertical-align: middle;\n",
       "    }\n",
       "\n",
       "    .dataframe tbody tr th {\n",
       "        vertical-align: top;\n",
       "    }\n",
       "\n",
       "    .dataframe thead th {\n",
       "        text-align: right;\n",
       "    }\n",
       "</style>\n",
       "<table border=\"1\" class=\"dataframe\">\n",
       "  <thead>\n",
       "    <tr style=\"text-align: right;\">\n",
       "      <th>situacion_legal_descripcion</th>\n",
       "      <th>Condenado</th>\n",
       "      <th>Otros</th>\n",
       "      <th>Procesado</th>\n",
       "    </tr>\n",
       "    <tr>\n",
       "      <th>tipo_infraccion_disciplinaria_descripcion</th>\n",
       "      <th></th>\n",
       "      <th></th>\n",
       "      <th></th>\n",
       "    </tr>\n",
       "  </thead>\n",
       "  <tbody>\n",
       "    <tr>\n",
       "      <th>Faltas graves</th>\n",
       "      <td>3385</td>\n",
       "      <td>21</td>\n",
       "      <td>2551</td>\n",
       "    </tr>\n",
       "    <tr>\n",
       "      <th>Faltas leves</th>\n",
       "      <td>625</td>\n",
       "      <td>2</td>\n",
       "      <td>487</td>\n",
       "    </tr>\n",
       "    <tr>\n",
       "      <th>Faltas media</th>\n",
       "      <td>2470</td>\n",
       "      <td>4</td>\n",
       "      <td>2495</td>\n",
       "    </tr>\n",
       "    <tr>\n",
       "      <th>No cometió Infracción disciplinaria</th>\n",
       "      <td>27874</td>\n",
       "      <td>317</td>\n",
       "      <td>26592</td>\n",
       "    </tr>\n",
       "  </tbody>\n",
       "</table>\n",
       "</div>"
      ],
      "text/plain": [
       "situacion_legal_descripcion                Condenado  Otros  Procesado\n",
       "tipo_infraccion_disciplinaria_descripcion                             \n",
       "Faltas graves                                   3385     21       2551\n",
       "Faltas leves                                     625      2        487\n",
       "Faltas media                                    2470      4       2495\n",
       "No cometió Infracción disciplinaria            27874    317      26592"
      ]
     },
     "execution_count": 46,
     "metadata": {},
     "output_type": "execute_result"
    }
   ],
   "source": [
    "tabla_rel= pd.crosstab(index=sneep['tipo_infraccion_disciplinaria_descripcion'].dropna(),\n",
    "            columns=sneep['situacion_legal_descripcion'].dropna())\n",
    "display(tabla_rel.shape)\n",
    "tabla_rel"
   ]
  },
  {
   "cell_type": "code",
   "execution_count": 38,
   "metadata": {},
   "outputs": [
    {
     "data": {
      "text/plain": [
       "array([[3.06252006e+03, 3.06662077e+01, 2.86381373e+03],\n",
       "       [5.72712330e+02, 5.73479191e+00, 5.35552878e+02],\n",
       "       [2.55458489e+03, 2.55800548e+01, 2.38883506e+03],\n",
       "       [2.81641827e+04, 2.82018946e+02, 2.63367983e+04]])"
      ]
     },
     "execution_count": 38,
     "metadata": {},
     "output_type": "execute_result"
    }
   ],
   "source": [
    "frec_esperadas = ss.contingency.expected_freq(tabla_rel)\n",
    "frec_esperadas"
   ]
  },
  {
   "cell_type": "code",
   "execution_count": 47,
   "metadata": {},
   "outputs": [
    {
     "name": "stdout",
     "output_type": "stream",
     "text": [
      "Chi2 = 118.30616750493593\n",
      "P-value = 3.696136005098137e-23\n",
      "DoF = 6\n"
     ]
    }
   ],
   "source": [
    "chi2, p, dof, ex  = ss.chi2_contingency(tabla_rel.values, correction=False)\n",
    "print(\"Chi2 =\", chi2)\n",
    "print(\"P-value =\", p)\n",
    "print(\"DoF =\", dof)"
   ]
  },
  {
   "cell_type": "code",
   "execution_count": 40,
   "metadata": {},
   "outputs": [
    {
     "name": "stdout",
     "output_type": "stream",
     "text": [
      "Rechazo H0 ==> Las Variables Estan Correlacionadas\n"
     ]
    }
   ],
   "source": [
    "def calc_conf(confianza):\n",
    "    \"\"\"\n",
    "    Retorna el nivel de significancia.\n",
    "    \"\"\"\n",
    "    return (100 - confianza) / 100\n",
    "\n",
    "# Queremos confianza al 90%\n",
    "if p < calc_conf(95):\n",
    "    print(\"Rechazo H0 ==> Las Variables Estan Correlacionadas\")\n",
    "else:\n",
    "    print(\"Acepto H0 ==> Las Variables Son Independientes\")"
   ]
  },
  {
   "cell_type": "markdown",
   "metadata": {},
   "source": [
    "## Generando muestra de datos aleatorias"
   ]
  },
  {
   "cell_type": "code",
   "execution_count": 78,
   "metadata": {},
   "outputs": [
    {
     "data": {
      "text/html": [
       "<div>\n",
       "<style scoped>\n",
       "    .dataframe tbody tr th:only-of-type {\n",
       "        vertical-align: middle;\n",
       "    }\n",
       "\n",
       "    .dataframe tbody tr th {\n",
       "        vertical-align: top;\n",
       "    }\n",
       "\n",
       "    .dataframe thead th {\n",
       "        text-align: right;\n",
       "    }\n",
       "</style>\n",
       "<table border=\"1\" class=\"dataframe\">\n",
       "  <thead>\n",
       "    <tr style=\"text-align: right;\">\n",
       "      <th></th>\n",
       "      <th>Procesado</th>\n",
       "      <th>Condenado</th>\n",
       "      <th>Otros</th>\n",
       "      <th>row_totals</th>\n",
       "    </tr>\n",
       "  </thead>\n",
       "  <tbody>\n",
       "    <tr>\n",
       "      <th>Faltas graves</th>\n",
       "      <td>45</td>\n",
       "      <td>0</td>\n",
       "      <td>36</td>\n",
       "      <td>81</td>\n",
       "    </tr>\n",
       "    <tr>\n",
       "      <th>Faltas leves</th>\n",
       "      <td>9</td>\n",
       "      <td>0</td>\n",
       "      <td>7</td>\n",
       "      <td>16</td>\n",
       "    </tr>\n",
       "    <tr>\n",
       "      <th>Faltas media</th>\n",
       "      <td>32</td>\n",
       "      <td>1</td>\n",
       "      <td>43</td>\n",
       "      <td>76</td>\n",
       "    </tr>\n",
       "    <tr>\n",
       "      <th>No cometió Infracción</th>\n",
       "      <td>417</td>\n",
       "      <td>8</td>\n",
       "      <td>402</td>\n",
       "      <td>827</td>\n",
       "    </tr>\n",
       "    <tr>\n",
       "      <th>col_totals</th>\n",
       "      <td>503</td>\n",
       "      <td>9</td>\n",
       "      <td>488</td>\n",
       "      <td>1000</td>\n",
       "    </tr>\n",
       "  </tbody>\n",
       "</table>\n",
       "</div>"
      ],
      "text/plain": [
       "                       Procesado  Condenado  Otros  row_totals\n",
       "Faltas graves                 45          0     36          81\n",
       "Faltas leves                   9          0      7          16\n",
       "Faltas media                  32          1     43          76\n",
       "No cometió Infracción        417          8    402         827\n",
       "col_totals                   503          9    488        1000"
      ]
     },
     "execution_count": 78,
     "metadata": {},
     "output_type": "execute_result"
    }
   ],
   "source": [
    "np.random.seed(10)\n",
    "# Sample data randomly at fixed probabilities\n",
    "situacion_legal = np.random.choice(a= ['Procesado','Condenado','Otros'],\n",
    "                              p = [0.48, 0.51 ,0.01],\n",
    "                              size=1000)\n",
    "\n",
    "# Sample data randomly at fixed probabilities\n",
    "tipo_infraccion = np.random.choice(a= ['Faltas graves','Faltas leves','Faltas media','No cometió Infracción'],\n",
    "                              p = [0.09, 0.02, 0.07, 0.82],\n",
    "                              size=1000)\n",
    "relacion = pd.DataFrame({\"Situacion\":situacion_legal, \n",
    "                       \"Tipo_infraccion\":tipo_infraccion})\n",
    "relacion_tab = pd.crosstab(relacion.Tipo_infraccion,relacion.Situacion, margins = True)\n",
    "relacion_tab.columns = ['Procesado','Condenado','Otros',\"row_totals\"]\n",
    "\n",
    "relacion_tab.index = ['Faltas graves','Faltas leves','Faltas media','No cometió Infracción',\"col_totals\"]\n",
    "\n",
    "observed = relacion_tab.ix[0:5,0:4]\n",
    "relacion_tab"
   ]
  },
  {
   "cell_type": "code",
   "execution_count": 79,
   "metadata": {},
   "outputs": [
    {
     "data": {
      "text/html": [
       "<div>\n",
       "<style scoped>\n",
       "    .dataframe tbody tr th:only-of-type {\n",
       "        vertical-align: middle;\n",
       "    }\n",
       "\n",
       "    .dataframe tbody tr th {\n",
       "        vertical-align: top;\n",
       "    }\n",
       "\n",
       "    .dataframe thead th {\n",
       "        text-align: right;\n",
       "    }\n",
       "</style>\n",
       "<table border=\"1\" class=\"dataframe\">\n",
       "  <thead>\n",
       "    <tr style=\"text-align: right;\">\n",
       "      <th></th>\n",
       "      <th>Procesado</th>\n",
       "      <th>Condenado</th>\n",
       "      <th>Otros</th>\n",
       "    </tr>\n",
       "  </thead>\n",
       "  <tbody>\n",
       "    <tr>\n",
       "      <th>Faltas graves</th>\n",
       "      <td>40.743</td>\n",
       "      <td>0.729</td>\n",
       "      <td>39.528</td>\n",
       "    </tr>\n",
       "    <tr>\n",
       "      <th>Faltas leves</th>\n",
       "      <td>8.048</td>\n",
       "      <td>0.144</td>\n",
       "      <td>7.808</td>\n",
       "    </tr>\n",
       "    <tr>\n",
       "      <th>Faltas media</th>\n",
       "      <td>38.228</td>\n",
       "      <td>0.684</td>\n",
       "      <td>37.088</td>\n",
       "    </tr>\n",
       "    <tr>\n",
       "      <th>No cometió Infracción</th>\n",
       "      <td>415.981</td>\n",
       "      <td>7.443</td>\n",
       "      <td>403.576</td>\n",
       "    </tr>\n",
       "  </tbody>\n",
       "</table>\n",
       "</div>"
      ],
      "text/plain": [
       "                       Procesado  Condenado    Otros\n",
       "Faltas graves             40.743      0.729   39.528\n",
       "Faltas leves               8.048      0.144    7.808\n",
       "Faltas media              38.228      0.684   37.088\n",
       "No cometió Infracción    415.981      7.443  403.576"
      ]
     },
     "execution_count": 79,
     "metadata": {},
     "output_type": "execute_result"
    }
   ],
   "source": [
    "expected =  np.outer(relacion_tab[\"row_totals\"][0:4],\n",
    "                     relacion_tab.ix[\"col_totals\"][0:3]) / 1000\n",
    "\n",
    "expected = pd.DataFrame(expected)\n",
    "\n",
    "expected.columns =['Procesado','Condenado','Otros']\n",
    "expected.index = ['Faltas graves','Faltas leves','Faltas media','No cometió Infracción']\n",
    "\n",
    "expected"
   ]
  },
  {
   "cell_type": "code",
   "execution_count": 92,
   "metadata": {},
   "outputs": [
    {
     "name": "stdout",
     "output_type": "stream",
     "text": [
      "3.982272689758802\n"
     ]
    }
   ],
   "source": [
    "chi_squared_stat = (((observed-expected)**2)/expected).sum().sum()\n",
    "\n",
    "print(chi_squared_stat)"
   ]
  },
  {
   "cell_type": "code",
   "execution_count": 93,
   "metadata": {},
   "outputs": [
    {
     "name": "stdout",
     "output_type": "stream",
     "text": [
      "Critical value\n",
      "12.591587243743977\n",
      "P value\n",
      "0.6790755309935894\n"
     ]
    }
   ],
   "source": [
    "crit = stats.chi2.ppf(q = 0.95, # Find the critical value for 95% confidence*\n",
    "                      df = 6)   # *\n",
    "\n",
    "print(\"Critical value\")\n",
    "print(crit)\n",
    "\n",
    "p_value = 1 - stats.chi2.cdf(x=chi_squared_stat,  # Find the p-value\n",
    "                             df=6)\n",
    "print(\"P value\")\n",
    "print(p_value)"
   ]
  },
  {
   "cell_type": "code",
   "execution_count": 97,
   "metadata": {
    "scrolled": false
   },
   "outputs": [
    {
     "data": {
      "text/plain": [
       "(3.9822726897588017,\n",
       " 0.6790755309935894,\n",
       " 6,\n",
       " array([[4.07430e+01, 7.29000e-01, 3.95280e+01],\n",
       "        [8.04800e+00, 1.44000e-01, 7.80800e+00],\n",
       "        [3.82280e+01, 6.84000e-01, 3.70880e+01],\n",
       "        [4.15981e+02, 7.44300e+00, 4.03576e+02]]))"
      ]
     },
     "execution_count": 97,
     "metadata": {},
     "output_type": "execute_result"
    }
   ],
   "source": [
    "relacion_tab = pd.crosstab(relacion.Tipo_infraccion,relacion.Situacion)\n",
    "stats.chi2_contingency(observed= relacion_tab)"
   ]
  },
  {
   "cell_type": "code",
   "execution_count": null,
   "metadata": {},
   "outputs": [],
   "source": []
  }
 ],
 "metadata": {
  "kernelspec": {
   "display_name": "Python 3",
   "language": "python",
   "name": "python3"
  },
  "language_info": {
   "codemirror_mode": {
    "name": "ipython",
    "version": 3
   },
   "file_extension": ".py",
   "mimetype": "text/x-python",
   "name": "python",
   "nbconvert_exporter": "python",
   "pygments_lexer": "ipython3",
   "version": "3.6.4"
  }
 },
 "nbformat": 4,
 "nbformat_minor": 2
}
